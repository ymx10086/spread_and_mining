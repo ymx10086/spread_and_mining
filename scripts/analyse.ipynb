{
 "cells": [
  {
   "cell_type": "code",
   "execution_count": 1,
   "metadata": {},
   "outputs": [],
   "source": [
    "from graph import *\n",
    "import pickle\n",
    "from pprint import pprint\n",
    "import numpy as np"
   ]
  },
  {
   "cell_type": "code",
   "execution_count": 3,
   "metadata": {},
   "outputs": [
    {
     "name": "stdout",
     "output_type": "stream",
     "text": [
      "'read file 34918246_checkpoint.graph'\n",
      "'finish read file 34918246_checkpoint.graph'\n",
      "'read file 34918253_checkpoint.graph'\n",
      "'finish read file 34918253_checkpoint.graph'\n",
      "'read file 34918260_checkpoint.graph'\n",
      "'finish read file 34918260_checkpoint.graph'\n",
      "'read file 34918267_checkpoint.graph'\n",
      "'finish read file 34918267_checkpoint.graph'\n",
      "'read file 34918274_checkpoint.graph'\n",
      "'finish read file 34918274_checkpoint.graph'\n",
      "'read file 34918281_checkpoint.graph'\n",
      "'finish read file 34918281_checkpoint.graph'\n",
      "'read file 34918288_checkpoint.graph'\n",
      "'finish read file 34918288_checkpoint.graph'\n",
      "'read file 34918295_checkpoint.graph'\n",
      "'finish read file 34918295_checkpoint.graph'\n",
      "'read file 34918302_checkpoint.graph'\n",
      "'finish read file 34918302_checkpoint.graph'\n",
      "'read file 34918316_checkpoint.graph'\n",
      "'finish read file 34918316_checkpoint.graph'\n",
      "'read file 34918323_checkpoint.graph'\n",
      "'finish read file 34918323_checkpoint.graph'\n",
      "'read file 34918330_checkpoint.graph'\n",
      "'finish read file 34918330_checkpoint.graph'\n",
      "'read file 34918337_checkpoint.graph'\n",
      "'finish read file 34918337_checkpoint.graph'\n",
      "'read file 34918344_checkpoint.graph'\n",
      "'finish read file 34918344_checkpoint.graph'\n",
      "'read file 34918351_checkpoint.graph'\n",
      "'finish read file 34918351_checkpoint.graph'\n",
      "'read file 34918358_checkpoint.graph'\n",
      "'finish read file 34918358_checkpoint.graph'\n",
      "'read file 34918365_checkpoint.graph'\n",
      "'finish read file 34918365_checkpoint.graph'\n",
      "'read file 34918372_checkpoint.graph'\n",
      "'finish read file 34918372_checkpoint.graph'\n",
      "'read file 34918379_checkpoint.graph'\n",
      "'finish read file 34918379_checkpoint.graph'\n",
      "'read file 34918386_checkpoint.graph'\n",
      "'finish read file 34918386_checkpoint.graph'\n",
      "'read file 34918393_checkpoint.graph'\n",
      "'finish read file 34918393_checkpoint.graph'\n",
      "'read file 34918400_checkpoint.graph'\n",
      "'finish read file 34918400_checkpoint.graph'\n",
      "'read file 34918407_checkpoint.graph'\n",
      "'finish read file 34918407_checkpoint.graph'\n",
      "'read file 34918414_checkpoint.graph'\n",
      "'finish read file 34918414_checkpoint.graph'\n",
      "'read file 34918421_checkpoint.graph'\n",
      "'finish read file 34918421_checkpoint.graph'\n",
      "'read file 34918428_checkpoint.graph'\n",
      "'finish read file 34918428_checkpoint.graph'\n",
      "'read file 34918435_checkpoint.graph'\n",
      "'finish read file 34918435_checkpoint.graph'\n",
      "'read file 34918442_checkpoint.graph'\n",
      "'finish read file 34918442_checkpoint.graph'\n",
      "'read file 34918449_checkpoint.graph'\n",
      "'finish read file 34918449_checkpoint.graph'\n",
      "'read file 34918456_checkpoint.graph'\n",
      "'finish read file 34918456_checkpoint.graph'\n",
      "'read file 34918463_checkpoint.graph'\n",
      "'finish read file 34918463_checkpoint.graph'\n",
      "'read file 34918470_checkpoint.graph'\n",
      "'finish read file 34918470_checkpoint.graph'\n",
      "'read file 34918477_checkpoint.graph'\n",
      "'finish read file 34918477_checkpoint.graph'\n",
      "'read file 34918484_checkpoint.graph'\n",
      "'finish read file 34918484_checkpoint.graph'\n",
      "'read file 34918491_checkpoint.graph'\n",
      "'finish read file 34918491_checkpoint.graph'\n",
      "'read file 34918498_checkpoint.graph'\n",
      "'finish read file 34918498_checkpoint.graph'\n",
      "'read file 34918505_checkpoint.graph'\n",
      "'finish read file 34918505_checkpoint.graph'\n",
      "'read file 34918512_checkpoint.graph'\n",
      "'finish read file 34918512_checkpoint.graph'\n",
      "'read file 34918519_checkpoint.graph'\n",
      "'finish read file 34918519_checkpoint.graph'\n",
      "'read file 34918526_checkpoint.graph'\n",
      "'finish read file 34918526_checkpoint.graph'\n",
      "'read file 34918533_checkpoint.graph'\n",
      "'finish read file 34918533_checkpoint.graph'\n",
      "'read file 34918540_checkpoint.graph'\n",
      "'finish read file 34918540_checkpoint.graph'\n",
      "'read file 34918547_checkpoint.graph'\n",
      "'finish read file 34918547_checkpoint.graph'\n",
      "'read file 34918554_checkpoint.graph'\n",
      "'finish read file 34918554_checkpoint.graph'\n",
      "'read file 34918561_checkpoint.graph'\n",
      "'finish read file 34918561_checkpoint.graph'\n",
      "'read file 34918568_checkpoint.graph'\n",
      "'finish read file 34918568_checkpoint.graph'\n",
      "'read file 34918575_checkpoint.graph'\n",
      "'finish read file 34918575_checkpoint.graph'\n",
      "'read file 34918582_checkpoint.graph'\n",
      "'finish read file 34918582_checkpoint.graph'\n",
      "[('34918246_checkpoint.graph',\n",
      "  {'max_deg': 26, 'num_edges': 1294, 'num_nodes': 1609}),\n",
      " ('34918253_checkpoint.graph',\n",
      "  {'max_deg': 15, 'num_edges': 679, 'num_nodes': 839}),\n",
      " ('34918260_checkpoint.graph',\n",
      "  {'max_deg': 19, 'num_edges': 739, 'num_nodes': 943}),\n",
      " ('34918267_checkpoint.graph',\n",
      "  {'max_deg': 67, 'num_edges': 2096, 'num_nodes': 2356}),\n",
      " ('34918274_checkpoint.graph',\n",
      "  {'max_deg': 17, 'num_edges': 1294, 'num_nodes': 1511}),\n",
      " ('34918281_checkpoint.graph',\n",
      "  {'max_deg': 59, 'num_edges': 3634, 'num_nodes': 4032}),\n",
      " ('34918288_checkpoint.graph',\n",
      "  {'max_deg': 77, 'num_edges': 4023, 'num_nodes': 4529}),\n",
      " ('34918295_checkpoint.graph',\n",
      "  {'max_deg': 51, 'num_edges': 4135, 'num_nodes': 4595}),\n",
      " ('34918302_checkpoint.graph',\n",
      "  {'max_deg': 98, 'num_edges': 5360, 'num_nodes': 5751}),\n",
      " ('34918316_checkpoint.graph',\n",
      "  {'max_deg': 129, 'num_edges': 12277, 'num_nodes': 12330}),\n",
      " ('34918323_checkpoint.graph',\n",
      "  {'max_deg': 33, 'num_edges': 6014, 'num_nodes': 6581}),\n",
      " ('34918330_checkpoint.graph',\n",
      "  {'max_deg': 149, 'num_edges': 5883, 'num_nodes': 6311}),\n",
      " ('34918337_checkpoint.graph',\n",
      "  {'max_deg': 223, 'num_edges': 11714, 'num_nodes': 11834}),\n",
      " ('34918344_checkpoint.graph',\n",
      "  {'max_deg': 70, 'num_edges': 3776, 'num_nodes': 4057}),\n",
      " ('34918351_checkpoint.graph',\n",
      "  {'max_deg': 29, 'num_edges': 2658, 'num_nodes': 2894}),\n",
      " ('34918358_checkpoint.graph',\n",
      "  {'max_deg': 20, 'num_edges': 866, 'num_nodes': 1025}),\n",
      " ('34918365_checkpoint.graph',\n",
      "  {'max_deg': 92, 'num_edges': 10215, 'num_nodes': 11435}),\n",
      " ('34918372_checkpoint.graph',\n",
      "  {'max_deg': 23, 'num_edges': 1185, 'num_nodes': 1522}),\n",
      " ('34918379_checkpoint.graph',\n",
      "  {'max_deg': 31, 'num_edges': 1992, 'num_nodes': 2539}),\n",
      " ('34918386_checkpoint.graph',\n",
      "  {'max_deg': 93, 'num_edges': 7603, 'num_nodes': 8346}),\n",
      " ('34918393_checkpoint.graph',\n",
      "  {'max_deg': 88, 'num_edges': 5351, 'num_nodes': 5869}),\n",
      " ('34918400_checkpoint.graph',\n",
      "  {'max_deg': 300, 'num_edges': 31728, 'num_nodes': 32056}),\n",
      " ('34918407_checkpoint.graph',\n",
      "  {'max_deg': 66, 'num_edges': 6405, 'num_nodes': 7189}),\n",
      " ('34918414_checkpoint.graph',\n",
      "  {'max_deg': 75, 'num_edges': 6837, 'num_nodes': 6614}),\n",
      " ('34918421_checkpoint.graph',\n",
      "  {'max_deg': 156, 'num_edges': 13723, 'num_nodes': 14400}),\n",
      " ('34918428_checkpoint.graph',\n",
      "  {'max_deg': 65, 'num_edges': 9103, 'num_nodes': 10145}),\n",
      " ('34918435_checkpoint.graph',\n",
      "  {'max_deg': 220, 'num_edges': 16223, 'num_nodes': 16485}),\n",
      " ('34918442_checkpoint.graph',\n",
      "  {'max_deg': 122, 'num_edges': 11546, 'num_nodes': 11962}),\n",
      " ('34918449_checkpoint.graph',\n",
      "  {'max_deg': 171, 'num_edges': 19758, 'num_nodes': 18622}),\n",
      " ('34918456_checkpoint.graph',\n",
      "  {'max_deg': 131, 'num_edges': 7793, 'num_nodes': 8408}),\n",
      " ('34918463_checkpoint.graph',\n",
      "  {'max_deg': 232, 'num_edges': 17363, 'num_nodes': 16483}),\n",
      " ('34918470_checkpoint.graph',\n",
      "  {'max_deg': 207, 'num_edges': 11727, 'num_nodes': 12246}),\n",
      " ('34918477_checkpoint.graph',\n",
      "  {'max_deg': 39, 'num_edges': 4020, 'num_nodes': 4761}),\n",
      " ('34918484_checkpoint.graph',\n",
      "  {'max_deg': 30, 'num_edges': 5036, 'num_nodes': 6044}),\n",
      " ('34918491_checkpoint.graph',\n",
      "  {'max_deg': 27, 'num_edges': 2787, 'num_nodes': 3386}),\n",
      " ('34918498_checkpoint.graph',\n",
      "  {'max_deg': 26, 'num_edges': 2203, 'num_nodes': 2705}),\n",
      " ('34918505_checkpoint.graph',\n",
      "  {'max_deg': 486, 'num_edges': 17401, 'num_nodes': 17107}),\n",
      " ('34918512_checkpoint.graph',\n",
      "  {'max_deg': 926, 'num_edges': 19294, 'num_nodes': 19996}),\n",
      " ('34918519_checkpoint.graph',\n",
      "  {'max_deg': 35, 'num_edges': 3088, 'num_nodes': 3639}),\n",
      " ('34918526_checkpoint.graph',\n",
      "  {'max_deg': 19, 'num_edges': 1877, 'num_nodes': 2281}),\n",
      " ('34918533_checkpoint.graph',\n",
      "  {'max_deg': 33, 'num_edges': 1388, 'num_nodes': 1731}),\n",
      " ('34918540_checkpoint.graph',\n",
      "  {'max_deg': 58, 'num_edges': 2545, 'num_nodes': 3034}),\n",
      " ('34918547_checkpoint.graph',\n",
      "  {'max_deg': 39, 'num_edges': 2689, 'num_nodes': 3039}),\n",
      " ('34918554_checkpoint.graph',\n",
      "  {'max_deg': 44, 'num_edges': 2935, 'num_nodes': 3506}),\n",
      " ('34918561_checkpoint.graph',\n",
      "  {'max_deg': 123, 'num_edges': 7947, 'num_nodes': 7888}),\n",
      " ('34918568_checkpoint.graph',\n",
      "  {'max_deg': 93, 'num_edges': 3203, 'num_nodes': 3329}),\n",
      " ('34918575_checkpoint.graph',\n",
      "  {'max_deg': 45, 'num_edges': 2024, 'num_nodes': 2300}),\n",
      " ('34918582_checkpoint.graph',\n",
      "  {'max_deg': 25, 'num_edges': 1626, 'num_nodes': 1841})]\n"
     ]
    }
   ],
   "source": [
    "profile_info = []\n",
    "nodes = []\n",
    "edges = []\n",
    "deg_dist = [i for i in range(0, 100, 5)]\n",
    "\n",
    "root = '../graph_bin_data/2022年全国高考A平台数据/'\n",
    "filename_list = os.listdir(root)\n",
    "for filename in filename_list:\n",
    "    pprint(f'read file {filename}')\n",
    "    with open(root+filename, \"rb\") as f:\n",
    "        graph = pickle.load(f)\n",
    "        profile_info.append((filename, graph.profile()))\n",
    "        cur_nodes, cur_edges = [], []\n",
    "        for deg in deg_dist:\n",
    "            cur_nodes.append(len(graph.get_nodes(deg)))\n",
    "            cur_edges.append(len(graph.get_edges(deg)))\n",
    "        nodes.append(cur_nodes)\n",
    "        edges.append(cur_edges)      \n",
    "    pprint(f'finish read file {filename}')\n",
    "    \n",
    "pprint(profile_info)\n",
    "# pprint(nodes)\n",
    "# pprint(edges)  "
   ]
  },
  {
   "cell_type": "code",
   "execution_count": 4,
   "metadata": {},
   "outputs": [
    {
     "name": "stdout",
     "output_type": "stream",
     "text": [
      "银盐鱼\n"
     ]
    }
   ],
   "source": [
    "with open(root+'34918512_checkpoint.graph', \"rb\") as f:\n",
    "    graph = pickle.load(f)\n",
    "    id = graph.get_user_by_deg(926)\n",
    "    print(id)"
   ]
  },
  {
   "cell_type": "code",
   "execution_count": 5,
   "metadata": {},
   "outputs": [
    {
     "name": "stdout",
     "output_type": "stream",
     "text": [
      "internet-garcon-pdf\n"
     ]
    }
   ],
   "source": [
    "with open(root+'34918505_checkpoint.graph', \"rb\") as f:\n",
    "    graph = pickle.load(f)\n",
    "    id = graph.get_user_by_deg(486)\n",
    "    print(id)"
   ]
  },
  {
   "cell_type": "code",
   "execution_count": 6,
   "metadata": {},
   "outputs": [
    {
     "name": "stdout",
     "output_type": "stream",
     "text": [
      "梁州Zz\n"
     ]
    }
   ],
   "source": [
    "with open(root+'34918463_checkpoint.graph', \"rb\") as f:\n",
    "    graph = pickle.load(f)\n",
    "    id = graph.get_user_by_deg(232)\n",
    "    print(id)"
   ]
  },
  {
   "cell_type": "code",
   "execution_count": 8,
   "metadata": {},
   "outputs": [
    {
     "name": "stdout",
     "output_type": "stream",
     "text": [
      "[('34918512_checkpoint.graph',\n",
      "  {'max_deg': 926, 'num_edges': 19294, 'num_nodes': 19996}),\n",
      " ('34918505_checkpoint.graph',\n",
      "  {'max_deg': 486, 'num_edges': 17401, 'num_nodes': 17107}),\n",
      " ('34918400_checkpoint.graph',\n",
      "  {'max_deg': 300, 'num_edges': 31728, 'num_nodes': 32056}),\n",
      " ('34918463_checkpoint.graph',\n",
      "  {'max_deg': 232, 'num_edges': 17363, 'num_nodes': 16483}),\n",
      " ('34918337_checkpoint.graph',\n",
      "  {'max_deg': 223, 'num_edges': 11714, 'num_nodes': 11834}),\n",
      " ('34918435_checkpoint.graph',\n",
      "  {'max_deg': 220, 'num_edges': 16223, 'num_nodes': 16485}),\n",
      " ('34918470_checkpoint.graph',\n",
      "  {'max_deg': 207, 'num_edges': 11727, 'num_nodes': 12246}),\n",
      " ('34918449_checkpoint.graph',\n",
      "  {'max_deg': 171, 'num_edges': 19758, 'num_nodes': 18622}),\n",
      " ('34918421_checkpoint.graph',\n",
      "  {'max_deg': 156, 'num_edges': 13723, 'num_nodes': 14400}),\n",
      " ('34918330_checkpoint.graph',\n",
      "  {'max_deg': 149, 'num_edges': 5883, 'num_nodes': 6311}),\n",
      " ('34918456_checkpoint.graph',\n",
      "  {'max_deg': 131, 'num_edges': 7793, 'num_nodes': 8408}),\n",
      " ('34918316_checkpoint.graph',\n",
      "  {'max_deg': 129, 'num_edges': 12277, 'num_nodes': 12330}),\n",
      " ('34918561_checkpoint.graph',\n",
      "  {'max_deg': 123, 'num_edges': 7947, 'num_nodes': 7888}),\n",
      " ('34918442_checkpoint.graph',\n",
      "  {'max_deg': 122, 'num_edges': 11546, 'num_nodes': 11962}),\n",
      " ('34918302_checkpoint.graph',\n",
      "  {'max_deg': 98, 'num_edges': 5360, 'num_nodes': 5751}),\n",
      " ('34918386_checkpoint.graph',\n",
      "  {'max_deg': 93, 'num_edges': 7603, 'num_nodes': 8346}),\n",
      " ('34918568_checkpoint.graph',\n",
      "  {'max_deg': 93, 'num_edges': 3203, 'num_nodes': 3329}),\n",
      " ('34918365_checkpoint.graph',\n",
      "  {'max_deg': 92, 'num_edges': 10215, 'num_nodes': 11435}),\n",
      " ('34918393_checkpoint.graph',\n",
      "  {'max_deg': 88, 'num_edges': 5351, 'num_nodes': 5869}),\n",
      " ('34918288_checkpoint.graph',\n",
      "  {'max_deg': 77, 'num_edges': 4023, 'num_nodes': 4529}),\n",
      " ('34918414_checkpoint.graph',\n",
      "  {'max_deg': 75, 'num_edges': 6837, 'num_nodes': 6614}),\n",
      " ('34918344_checkpoint.graph',\n",
      "  {'max_deg': 70, 'num_edges': 3776, 'num_nodes': 4057}),\n",
      " ('34918267_checkpoint.graph',\n",
      "  {'max_deg': 67, 'num_edges': 2096, 'num_nodes': 2356}),\n",
      " ('34918407_checkpoint.graph',\n",
      "  {'max_deg': 66, 'num_edges': 6405, 'num_nodes': 7189}),\n",
      " ('34918428_checkpoint.graph',\n",
      "  {'max_deg': 65, 'num_edges': 9103, 'num_nodes': 10145}),\n",
      " ('34918281_checkpoint.graph',\n",
      "  {'max_deg': 59, 'num_edges': 3634, 'num_nodes': 4032}),\n",
      " ('34918540_checkpoint.graph',\n",
      "  {'max_deg': 58, 'num_edges': 2545, 'num_nodes': 3034}),\n",
      " ('34918295_checkpoint.graph',\n",
      "  {'max_deg': 51, 'num_edges': 4135, 'num_nodes': 4595}),\n",
      " ('34918575_checkpoint.graph',\n",
      "  {'max_deg': 45, 'num_edges': 2024, 'num_nodes': 2300}),\n",
      " ('34918554_checkpoint.graph',\n",
      "  {'max_deg': 44, 'num_edges': 2935, 'num_nodes': 3506}),\n",
      " ('34918477_checkpoint.graph',\n",
      "  {'max_deg': 39, 'num_edges': 4020, 'num_nodes': 4761}),\n",
      " ('34918547_checkpoint.graph',\n",
      "  {'max_deg': 39, 'num_edges': 2689, 'num_nodes': 3039}),\n",
      " ('34918519_checkpoint.graph',\n",
      "  {'max_deg': 35, 'num_edges': 3088, 'num_nodes': 3639}),\n",
      " ('34918323_checkpoint.graph',\n",
      "  {'max_deg': 33, 'num_edges': 6014, 'num_nodes': 6581}),\n",
      " ('34918533_checkpoint.graph',\n",
      "  {'max_deg': 33, 'num_edges': 1388, 'num_nodes': 1731}),\n",
      " ('34918379_checkpoint.graph',\n",
      "  {'max_deg': 31, 'num_edges': 1992, 'num_nodes': 2539}),\n",
      " ('34918484_checkpoint.graph',\n",
      "  {'max_deg': 30, 'num_edges': 5036, 'num_nodes': 6044}),\n",
      " ('34918351_checkpoint.graph',\n",
      "  {'max_deg': 29, 'num_edges': 2658, 'num_nodes': 2894}),\n",
      " ('34918491_checkpoint.graph',\n",
      "  {'max_deg': 27, 'num_edges': 2787, 'num_nodes': 3386}),\n",
      " ('34918246_checkpoint.graph',\n",
      "  {'max_deg': 26, 'num_edges': 1294, 'num_nodes': 1609}),\n",
      " ('34918498_checkpoint.graph',\n",
      "  {'max_deg': 26, 'num_edges': 2203, 'num_nodes': 2705}),\n",
      " ('34918582_checkpoint.graph',\n",
      "  {'max_deg': 25, 'num_edges': 1626, 'num_nodes': 1841}),\n",
      " ('34918372_checkpoint.graph',\n",
      "  {'max_deg': 23, 'num_edges': 1185, 'num_nodes': 1522}),\n",
      " ('34918358_checkpoint.graph',\n",
      "  {'max_deg': 20, 'num_edges': 866, 'num_nodes': 1025}),\n",
      " ('34918260_checkpoint.graph',\n",
      "  {'max_deg': 19, 'num_edges': 739, 'num_nodes': 943}),\n",
      " ('34918526_checkpoint.graph',\n",
      "  {'max_deg': 19, 'num_edges': 1877, 'num_nodes': 2281}),\n",
      " ('34918274_checkpoint.graph',\n",
      "  {'max_deg': 17, 'num_edges': 1294, 'num_nodes': 1511}),\n",
      " ('34918253_checkpoint.graph',\n",
      "  {'max_deg': 15, 'num_edges': 679, 'num_nodes': 839})]\n"
     ]
    }
   ],
   "source": [
    "sort_list = sorted(profile_info, key=lambda x: x[1]['max_deg'], reverse=True)\n",
    "pprint(sort_list)"
   ]
  },
  {
   "cell_type": "code",
   "execution_count": 14,
   "metadata": {},
   "outputs": [
    {
     "name": "stdout",
     "output_type": "stream",
     "text": [
      "银盐鱼 926\n",
      "internet-garcon-pdf 486\n",
      "康堤will 300\n",
      "梁州Zz 232\n",
      "正直男孩 223\n",
      "JoannaBlue 220\n",
      "起肖蔷 207\n",
      "马德我好讨厌下雨天 171\n",
      "M大王叫我来巡山 156\n",
      "PeterLeaf 149\n"
     ]
    }
   ],
   "source": [
    "for i in range(10):\n",
    "    with open(root+sort_list[i][0], \"rb\") as f:\n",
    "        # print(sort_list[i][1]['max_deg'])\n",
    "        graph = pickle.load(f)\n",
    "        id = graph.get_user_by_deg(sort_list[i][1]['max_deg'])\n",
    "        print(id, sort_list[i][1]['max_deg'])\n",
    "        "
   ]
  },
  {
   "cell_type": "code",
   "execution_count": 14,
   "metadata": {},
   "outputs": [
    {
     "data": {
      "text/plain": [
       "0"
      ]
     },
     "execution_count": 14,
     "metadata": {},
     "output_type": "execute_result"
    }
   ],
   "source": [
    "# 以高考话题A平台为例\n",
    "\n",
    "# 总结点数，也就是转发链中可能的关键人物数量(候选者)\n",
    "sum_nodes = sum([profile_info[i]['num_nodes'] for i in range(len(profile_info))])\n",
    "sum_nodes"
   ]
  },
  {
   "cell_type": "code",
   "execution_count": 15,
   "metadata": {},
   "outputs": [
    {
     "data": {
      "text/plain": [
       "0"
      ]
     },
     "execution_count": 15,
     "metadata": {},
     "output_type": "execute_result"
    }
   ],
   "source": [
    "# 总边数  可以看出图相当稀疏\n",
    "sum_edges = sum([profile_info[i]['num_edges'] for i in range(len(profile_info))])\n",
    "sum_edges"
   ]
  },
  {
   "cell_type": "code",
   "execution_count": 6,
   "metadata": {},
   "outputs": [
    {
     "data": {
      "text/plain": [
       "366"
      ]
     },
     "execution_count": 6,
     "metadata": {},
     "output_type": "execute_result"
    }
   ],
   "source": [
    "# 构成的图中的最大度\n",
    "max_deg = max([profile_info[i]['max_deg'] for i in range(len(profile_info))])\n",
    "max_deg"
   ]
  },
  {
   "cell_type": "code",
   "execution_count": 7,
   "metadata": {},
   "outputs": [],
   "source": [
    "# deg-nodes， deg-edges幂律分布\n",
    "nodes_np = np.array(nodes)\n",
    "edges_np = np.array(edges)\n",
    "deg_nodes = np.sum(nodes_np, axis=0)\n",
    "deg_edges = np.sum(edges_np, axis=0)"
   ]
  },
  {
   "cell_type": "code",
   "execution_count": 8,
   "metadata": {},
   "outputs": [
    {
     "data": {
      "image/png": "[encoded data removed]",
      "text/plain": [
       "<Figure size 432x288 with 1 Axes>"
      ]
     },
     "metadata": {
      "needs_background": "light"
     },
     "output_type": "display_data"
    }
   ],
   "source": [
    "import matplotlib.pyplot as plt\n",
    "\n",
    "plt.rcParams['font.sans-serif']=['SimHei'] #用来正常显示中文标签\n",
    "plt.rcParams['axes.unicode_minus']=False #用来正常显示负号 #有中文出现的情况，需要u'内容'\n",
    "\n",
    "plt.plot([i for i in range(0, 100, 5)], deg_nodes, label='节点数量')\n",
    "plt.plot([i for i in range(0, 100, 5)], deg_edges, label='相关边数量')\n",
    "plt.xlabel('节点度限制')\n",
    "plt.ylabel('度>n的节点和相关边的数量')\n",
    "plt.legend()\n",
    "plt.savefig('power-law-chunwan.jpg', dpi=750, bbox_inches='tight')\n",
    "plt.show()"
   ]
  },
  {
   "cell_type": "code",
   "execution_count": 20,
   "metadata": {},
   "outputs": [
    {
     "data": {
      "image/png": "[encoded data removed]",
      "text/plain": [
       "<Figure size 432x288 with 1 Axes>"
      ]
     },
     "metadata": {
      "needs_background": "light"
     },
     "output_type": "display_data"
    }
   ],
   "source": [
    "# final bar plot\n",
    "\n",
    "import matplotlib\n",
    "import matplotlib.pyplot as plt\n",
    "import numpy as np\n",
    "\n",
    "plt.rcParams['font.sans-serif']=['SimHei'] # 解决中文乱码\n",
    "\n",
    "labels = ['高考', '春晚']\n",
    "edges = [325058, 169611]\n",
    "nodes = [342107, 176453]\n",
    "max_deg = [926, 366]\n",
    "\n",
    "\n",
    "x = np.arange(len(labels))  # 标签位置\n",
    "width = 0.2  # 柱状图的宽度，可以根据自己的需求和审美来改\n",
    "\n",
    "fig, ax = plt.subplots()\n",
    "rects1 = ax.bar(x - width, edges, width, label='节点数')\n",
    "rects2 = ax.bar(x + 0.01, nodes, width, label='边数')\n",
    "rects3 = ax.bar(x + width + 0.02, max_deg, width, label='节点最大度')\n",
    "\n",
    "\n",
    "# 为y轴、标题和x轴等添加一些文本。\n",
    "ax.set_ylabel('统计性数据', fontsize=16)\n",
    "ax.set_xlabel('话题', fontsize=16)\n",
    "ax.set_title('话题数据描述性统计')\n",
    "ax.set_xticks(x)\n",
    "ax.set_xticklabels(labels)\n",
    "ax.legend()\n",
    "\n",
    "\n",
    "def autolabel(rects):\n",
    "    \"\"\"在*rects*中的每个柱状条上方附加一个文本标签，显示其高度\"\"\"\n",
    "    for rect in rects:\n",
    "        height = rect.get_height()\n",
    "        ax.annotate('{}'.format(height),\n",
    "                    xy=(rect.get_x() + rect.get_width() / 2, height),\n",
    "                    xytext=(0, 3),  # 3点垂直偏移\n",
    "                    textcoords=\"offset points\",\n",
    "                    ha='center', va='bottom')\n",
    "\n",
    "autolabel(rects1)\n",
    "autolabel(rects2)\n",
    "autolabel(rects3)\n",
    "\n",
    "fig.tight_layout()\n",
    "\n",
    "plt.savefig('统计性描述.jpg', dpi=750, bbox_inches='tight')\n",
    "plt.show()\n",
    "\n"
   ]
  }
 ],
 "metadata": {
  "kernelspec": {
   "display_name": "base",
   "language": "python",
   "name": "python3"
  },
  "language_info": {
   "codemirror_mode": {
    "name": "ipython",
    "version": 3
   },
   "file_extension": ".py",
   "mimetype": "text/x-python",
   "name": "python",
   "nbconvert_exporter": "python",
   "pygments_lexer": "ipython3",
   "version": "3.9.12"
  },
  "orig_nbformat": 4
 },
 "nbformat": 4,
 "nbformat_minor": 2
}
